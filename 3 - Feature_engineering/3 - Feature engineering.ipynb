{
 "cells": [
  {
   "cell_type": "markdown",
   "id": "7f542664-f0cc-4db3-bd25-3fe0eff85e18",
   "metadata": {},
   "source": [
    "\n",
    "<div style=\"display: flex; align-items: center; justify-content: center; padding: 20px 0; text-align: center; height: 100vh; max-width: 1500px; margin: auto;\">\n",
    "    <img src=\"https://media.licdn.com/dms/image/v2/D4D3DAQFGx0XnuUvugA/image-scale_191_1128/image-scale_191_1128/0/1662458005755/nova_ims_information_management_school_cover?e=2147483647&v=beta&t=J3Q4LlZi36_4UAFhj2019QdtfXLn0kQwaX25jgaBhOQ\" \n",
    "         alt=\"Logo\" \n",
    "         style=\"width: 100%; max-width: 1500px; height: auto; max-height: 200px; object-fit: cover; object-position: center; border: 5px solid #A0C020; border-radius: 5px;\">\n",
    "</div>\n",
    "\n",
    "<div style=\"text-align: center; padding: 20px 0;\">\n",
    "    <h5>This analysis is conducted as part of the <b><i>Text Mining</i></b> course, a component of the Master's program in Data Science and Advanced Analytics at the <b><u>Nova Information Management School</u></b>.</h5>\n",
    "</div>\n",
    "<!-- This notebook template was created by Catarina Gonçalves Nunes, 20230083 -->\n",
    "<div style=\"text-align: center; color: #A0C020;\">\n",
    "    <h1><b>Predicting market behavior from tweets</b></h1>\n",
    "</div>"
   ]
  },
  {
   "cell_type": "markdown",
   "id": "d57da9c0-2c79-47d8-bc28-2ad2f9b1bd22",
   "metadata": {},
   "source": [
    "<h3 style=\"text-align: center;\"><u></b>Group 31</u></b></h3>\n",
    "\n",
    "|     Student Name     |     Student ID     | \n",
    "|         ---          |           ---          |\n",
    "|     David|         | \n",
    "|     Elcano           |              |\n",
    "|     Jorge Cordeiro      |       20240594       |\n",
    "|     Rui   |            |"
   ]
  },
  {
   "cell_type": "code",
   "execution_count": 1,
   "id": "6e98105e-33e0-47cc-8045-dd5a1c781ce0",
   "metadata": {},
   "outputs": [
    {
     "name": "stderr",
     "output_type": "stream",
     "text": [
      "D:\\Outras coisas\\Anaconda\\envs\\nlp\\lib\\site-packages\\tqdm\\auto.py:21: TqdmWarning: IProgress not found. Please update jupyter and ipywidgets. See https://ipywidgets.readthedocs.io/en/stable/user_install.html\n",
      "  from .autonotebook import tqdm as notebook_tqdm\n"
     ]
    },
    {
     "name": "stdout",
     "output_type": "stream",
     "text": [
      "Using device: cpu\n"
     ]
    }
   ],
   "source": [
    "# Import the class\n",
    "from feature_functions import FeatureEngineering"
   ]
  },
  {
   "cell_type": "code",
   "execution_count": 3,
   "id": "a48dafcf-3a61-4cfc-8ea0-2587aea3f2c9",
   "metadata": {},
   "outputs": [
    {
     "name": "stdout",
     "output_type": "stream",
     "text": [
      "Created output directory: ../feature_engineered_data\n",
      "Found preprocessing versions: ['regexp_snowball', 'tweet_base', 'tweet_porter', 'whitespace_lancaster', 'word_lemma']\n",
      "\n",
      "Processing features for: regexp_snowball\n",
      "\n",
      "================================================================================\n",
      "Processing features for regexp_snowball\n",
      "================================================================================\n",
      "Loaded regexp_snowball data - Train: 8111, Val: 1432, Test: 2388\n",
      "Class distribution in training set:\n",
      "  Class 0: 1226 (15.1%)\n",
      "  Class 1: 1634 (20.1%)\n",
      "  Class 2: 5251 (64.7%)\n",
      "Using weight strategy to handle class imbalance\n",
      "Class weights: {0: 2.2052746057640022, 1: 1.6546307629538963, 2: 0.5148860534501365}\n",
      "\n",
      "Processing TF-IDF features...\n",
      "Creating TF-IDF features (max_features=5000, ngram_range=(1, 2))\n",
      "TF-IDF features - Train: (8111, 5000), Val: (1432, 5000), Test: (2388, 5000)\n",
      "Top 10 features for each class:\n",
      "  Class 0:\n",
      "    stock: 0.0242\n",
      "    miss: 0.0203\n",
      "    valu: 0.0192\n",
      "    monetari: 0.0190\n",
      "    monetari valu: 0.0190\n",
      "    valu stamp: 0.0190\n",
      "    stamp: 0.0181\n",
      "    cut: 0.0173\n",
      "    market: 0.0144\n",
      "    oil: 0.0138\n",
      "  Class 1:\n",
      "    valu: 0.0309\n",
      "    monetari: 0.0306\n",
      "    monetari valu: 0.0306\n",
      "    valu stamp: 0.0306\n",
      "    stamp: 0.0293\n",
      "    beat: 0.0276\n",
      "    stock: 0.0269\n",
      "    share: 0.0182\n",
      "    market: 0.0171\n",
      "    revenu: 0.0153\n",
      "  Class 2:\n",
      "    stamp: 0.0204\n",
      "    stock: 0.0202\n",
      "    valu: 0.0183\n",
      "    monetari: 0.0171\n",
      "    valu stamp: 0.0168\n",
      "    monetari valu: 0.0168\n",
      "    result: 0.0156\n",
      "    report: 0.0154\n",
      "    marketscreen: 0.0134\n",
      "    report result: 0.0119\n",
      "Saved TF-IDF features to ../feature_engineered_data\\regexp_snowball\n",
      "\n",
      "Processing Word2Vec features...\n",
      "Creating Word2Vec features (vector_size=100, window=5)\n",
      "Word2Vec vocabulary size: 5221\n"
     ]
    },
    {
     "name": "stderr",
     "output_type": "stream",
     "text": [
      "Creating train vectors: 100%|████████████████████████████████████████████████████| 8111/8111 [00:01<00:00, 5696.44it/s]\n",
      "Creating val vectors: 100%|██████████████████████████████████████████████████████| 1432/1432 [00:00<00:00, 5047.78it/s]\n",
      "Creating test vectors: 100%|█████████████████████████████████████████████████████| 2388/2388 [00:00<00:00, 5708.66it/s]\n"
     ]
    },
    {
     "name": "stdout",
     "output_type": "stream",
     "text": [
      "Word2Vec features - Train: (8111, 100), Val: (1432, 100), Test: (2388, 100)\n",
      "\n",
      "Some word similarities:\n",
      "  bullish: [('ball', 0.9973575472831726), ('never', 0.9939467906951904), ('burn', 0.9926586747169495), ('love', 0.9859457015991211), ('cedar', 0.9816860556602478)]\n",
      "  bearish: [('octob', 0.9975106120109558), ('merger', 0.9974269866943359), ('south', 0.9974251985549927), ('rs', 0.9972898960113525), ('coti', 0.9972615242004395)]\n",
      "  stock: [('wti', 0.9498069286346436), ('appendix', 0.9123814105987549), ('ridley', 0.9123786091804504), ('bankofireland', 0.9120078086853027), ('londonstockexchang', 0.9017035365104675)]\n",
      "  market: [('financ', 0.9773199558258057), ('stockmarket', 0.9758461713790894), ('updat', 0.9697899222373962), ('marketscreen', 0.9642744064331055), ('busi', 0.9616093039512634)]\n",
      "  up: [('microsoft', 0.9986723065376282), ('larg', 0.9984608292579651), ('perform', 0.9983747601509094), ('win', 0.998298168182373), ('lose', 0.9982708096504211)]\n",
      "Saved Word2Vec features to ../feature_engineered_data\\regexp_snowball\n",
      "\n",
      "Processing Mini Sentence-BERT features...\n",
      "Creating Mini Sentence-BERT features using sentence-transformers/all-MiniLM-L6-v2\n"
     ]
    },
    {
     "name": "stderr",
     "output_type": "stream",
     "text": [
      "Generating embeddings: 100%|█████████████████████████████████████████████████████████| 254/254 [06:50<00:00,  1.62s/it]\n",
      "Generating embeddings: 100%|███████████████████████████████████████████████████████████| 45/45 [01:13<00:00,  1.62s/it]\n",
      "Generating embeddings: 100%|███████████████████████████████████████████████████████████| 75/75 [02:01<00:00,  1.63s/it]\n"
     ]
    },
    {
     "name": "stdout",
     "output_type": "stream",
     "text": [
      "Mini Sentence-BERT features - Train: (8111, 384), Val: (1432, 384), Test: (2388, 384)\n",
      "Saved Mini Sentence-BERT features to ../feature_engineered_data\\regexp_snowball\n",
      "\n",
      "Processing features for: tweet_base\n",
      "\n",
      "================================================================================\n",
      "Processing features for tweet_base\n",
      "================================================================================\n",
      "Loaded tweet_base data - Train: 8111, Val: 1432, Test: 2388\n",
      "Class distribution in training set:\n",
      "  Class 0: 1226 (15.1%)\n",
      "  Class 1: 1634 (20.1%)\n",
      "  Class 2: 5251 (64.7%)\n",
      "Using weight strategy to handle class imbalance\n",
      "Class weights: {0: 2.2052746057640022, 1: 1.6546307629538963, 2: 0.5148860534501365}\n",
      "\n",
      "Processing TF-IDF features...\n",
      "Creating TF-IDF features (max_features=5000, ngram_range=(1, 2))\n",
      "TF-IDF features - Train: (8111, 5000), Val: (1432, 5000), Test: (2388, 5000)\n",
      "Top 10 features for each class:\n",
      "  Class 0:\n",
      "    value: 0.0194\n",
      "    monetary: 0.0193\n",
      "    value stamp: 0.0193\n",
      "    monetary value: 0.0193\n",
      "    stock: 0.0192\n",
      "    stamp: 0.0183\n",
      "    misses: 0.0158\n",
      "    oil: 0.0142\n",
      "    china: 0.0142\n",
      "    coronavirus: 0.0133\n",
      "  Class 1:\n",
      "    value: 0.0309\n",
      "    monetary: 0.0308\n",
      "    monetary value: 0.0308\n",
      "    value stamp: 0.0308\n",
      "    stamp: 0.0294\n",
      "    beats: 0.0232\n",
      "    stock: 0.0210\n",
      "    shares: 0.0155\n",
      "    revenue: 0.0151\n",
      "    price: 0.0137\n",
      "  Class 2:\n",
      "    stamp: 0.0205\n",
      "    value: 0.0182\n",
      "    monetary: 0.0172\n",
      "    stock: 0.0171\n",
      "    monetary value: 0.0170\n",
      "    value stamp: 0.0170\n",
      "    results: 0.0155\n",
      "    marketscreener: 0.0136\n",
      "    reports: 0.0133\n",
      "    reports results: 0.0117\n",
      "Saved TF-IDF features to ../feature_engineered_data\\tweet_base\n",
      "\n",
      "Processing Word2Vec features...\n",
      "Creating Word2Vec features (vector_size=100, window=5)\n",
      "Word2Vec vocabulary size: 6353\n"
     ]
    },
    {
     "name": "stderr",
     "output_type": "stream",
     "text": [
      "Creating train vectors: 100%|████████████████████████████████████████████████████| 8111/8111 [00:01<00:00, 6147.12it/s]\n",
      "Creating val vectors: 100%|██████████████████████████████████████████████████████| 1432/1432 [00:00<00:00, 6372.90it/s]\n",
      "Creating test vectors: 100%|█████████████████████████████████████████████████████| 2388/2388 [00:00<00:00, 6230.86it/s]\n"
     ]
    },
    {
     "name": "stdout",
     "output_type": "stream",
     "text": [
      "Word2Vec features - Train: (8111, 100), Val: (1432, 100), Test: (2388, 100)\n",
      "\n",
      "Some word similarities:\n",
      "  bullish: [('never', 0.9943933486938477), ('ball', 0.994008481502533), ('crazy', 0.9935561418533325), ('warming', 0.9904704093933105), ('love', 0.9900972843170166)]\n",
      "  bearish: [('work', 0.9973217248916626), ('rs', 0.9972800612449646), ('watch', 0.9971802234649658), ('action', 0.9971402287483215), ('great', 0.9971367716789246)]\n",
      "  stock: [('appendix', 0.9595230221748352), ('fortinet', 0.9259059429168701), ('dynamics', 0.9003927111625671), ('biofrontera', 0.8957542777061462), ('bankofireland', 0.8943578004837036)]\n",
      "  market: [('update', 0.9934055209159851), ('happened', 0.9775675535202026), ('wti', 0.9737668037414551), ('marketscreener', 0.9736283421516418), ('financials', 0.9676500558853149)]\n",
      "Saved Word2Vec features to ../feature_engineered_data\\tweet_base\n",
      "\n",
      "Processing Mini Sentence-BERT features...\n",
      "Creating Mini Sentence-BERT features using sentence-transformers/all-MiniLM-L6-v2\n"
     ]
    },
    {
     "name": "stderr",
     "output_type": "stream",
     "text": [
      "Generating embeddings: 100%|█████████████████████████████████████████████████████████| 254/254 [04:52<00:00,  1.15s/it]\n",
      "Generating embeddings: 100%|███████████████████████████████████████████████████████████| 45/45 [01:05<00:00,  1.45s/it]\n",
      "Generating embeddings: 100%|███████████████████████████████████████████████████████████| 75/75 [01:22<00:00,  1.10s/it]\n"
     ]
    },
    {
     "name": "stdout",
     "output_type": "stream",
     "text": [
      "Mini Sentence-BERT features - Train: (8111, 384), Val: (1432, 384), Test: (2388, 384)\n",
      "Saved Mini Sentence-BERT features to ../feature_engineered_data\\tweet_base\n",
      "\n",
      "Processing features for: tweet_porter\n",
      "\n",
      "================================================================================\n",
      "Processing features for tweet_porter\n",
      "================================================================================\n",
      "Loaded tweet_porter data - Train: 8111, Val: 1432, Test: 2388\n",
      "Class distribution in training set:\n",
      "  Class 0: 1226 (15.1%)\n",
      "  Class 1: 1634 (20.1%)\n",
      "  Class 2: 5251 (64.7%)\n",
      "Using weight strategy to handle class imbalance\n",
      "Class weights: {0: 2.2052746057640022, 1: 1.6546307629538963, 2: 0.5148860534501365}\n",
      "\n",
      "Processing TF-IDF features...\n",
      "Creating TF-IDF features (max_features=5000, ngram_range=(1, 2))\n",
      "TF-IDF features - Train: (8111, 5000), Val: (1432, 5000), Test: (2388, 5000)\n",
      "Top 10 features for each class:\n",
      "  Class 0:\n",
      "    stock: 0.0241\n",
      "    miss: 0.0202\n",
      "    valu: 0.0192\n",
      "    monetari: 0.0190\n",
      "    valu stamp: 0.0190\n",
      "    monetari valu: 0.0190\n",
      "    stamp: 0.0180\n",
      "    cut: 0.0174\n",
      "    market: 0.0143\n",
      "    oil: 0.0140\n",
      "  Class 1:\n",
      "    valu: 0.0308\n",
      "    monetari: 0.0305\n",
      "    monetari valu: 0.0305\n",
      "    valu stamp: 0.0305\n",
      "    stamp: 0.0291\n",
      "    beat: 0.0272\n",
      "    stock: 0.0269\n",
      "    share: 0.0182\n",
      "    market: 0.0171\n",
      "    revenu: 0.0153\n",
      "  Class 2:\n",
      "    stamp: 0.0203\n",
      "    stock: 0.0202\n",
      "    valu: 0.0183\n",
      "    monetari: 0.0171\n",
      "    monetari valu: 0.0168\n",
      "    valu stamp: 0.0168\n",
      "    result: 0.0155\n",
      "    report: 0.0152\n",
      "    marketscreen: 0.0135\n",
      "    report result: 0.0117\n",
      "Saved TF-IDF features to ../feature_engineered_data\\tweet_porter\n",
      "\n",
      "Processing Word2Vec features...\n",
      "Creating Word2Vec features (vector_size=100, window=5)\n",
      "Word2Vec vocabulary size: 5230\n"
     ]
    },
    {
     "name": "stderr",
     "output_type": "stream",
     "text": [
      "Creating train vectors: 100%|████████████████████████████████████████████████████| 8111/8111 [00:01<00:00, 5388.88it/s]\n",
      "Creating val vectors: 100%|██████████████████████████████████████████████████████| 1432/1432 [00:00<00:00, 6063.94it/s]\n",
      "Creating test vectors: 100%|█████████████████████████████████████████████████████| 2388/2388 [00:00<00:00, 6202.76it/s]\n"
     ]
    },
    {
     "name": "stdout",
     "output_type": "stream",
     "text": [
      "Word2Vec features - Train: (8111, 100), Val: (1432, 100), Test: (2388, 100)\n",
      "\n",
      "Some word similarities:\n",
      "  bullish: [('never', 0.9954302310943604), ('burn', 0.9953248500823975), ('ball', 0.9951691031455994), ('love', 0.9870212078094482), ('crazi', 0.9844789505004883)]\n",
      "  bearish: [('south', 0.9970870614051819), ('stay', 0.9970661997795105), ('singapor', 0.9968780875205994), ('gm', 0.9968293905258179), ('flag', 0.9967954158782959)]\n",
      "  stock: [('wti', 0.9412325024604797), ('bankofireland', 0.9282942414283752), ('faang', 0.9178789258003235), ('renascorresourc', 0.912621259689331), ('salmat', 0.9115110039710999)]\n",
      "  market: [('stockmarket', 0.9768617153167725), ('trade', 0.9763567447662354), ('financ', 0.9759774208068848), ('updat', 0.9758418202400208), ('marketscreen', 0.9741309285163879)]\n",
      "  up: [('stay', 0.9986398220062256), ('coffe', 0.9986069202423096), ('forc', 0.9986036419868469), ('rival', 0.9984972476959229), ('got', 0.9984332323074341)]\n",
      "Saved Word2Vec features to ../feature_engineered_data\\tweet_porter\n",
      "\n",
      "Processing Mini Sentence-BERT features...\n",
      "Creating Mini Sentence-BERT features using sentence-transformers/all-MiniLM-L6-v2\n"
     ]
    },
    {
     "name": "stderr",
     "output_type": "stream",
     "text": [
      "Generating embeddings: 100%|█████████████████████████████████████████████████████████| 254/254 [06:00<00:00,  1.42s/it]\n",
      "Generating embeddings: 100%|███████████████████████████████████████████████████████████| 45/45 [00:38<00:00,  1.16it/s]\n",
      "Generating embeddings: 100%|███████████████████████████████████████████████████████████| 75/75 [01:46<00:00,  1.42s/it]\n"
     ]
    },
    {
     "name": "stdout",
     "output_type": "stream",
     "text": [
      "Mini Sentence-BERT features - Train: (8111, 384), Val: (1432, 384), Test: (2388, 384)\n",
      "Saved Mini Sentence-BERT features to ../feature_engineered_data\\tweet_porter\n",
      "\n",
      "Processing features for: whitespace_lancaster\n",
      "\n",
      "================================================================================\n",
      "Processing features for whitespace_lancaster\n",
      "================================================================================\n",
      "Loaded whitespace_lancaster data - Train: 8111, Val: 1432, Test: 2388\n",
      "Class distribution in training set:\n",
      "  Class 0: 1226 (15.1%)\n",
      "  Class 1: 1634 (20.1%)\n",
      "  Class 2: 5251 (64.7%)\n",
      "Using weight strategy to handle class imbalance\n",
      "Class weights: {0: 2.2052746057640022, 1: 1.6546307629538963, 2: 0.5148860534501365}\n",
      "\n",
      "Processing TF-IDF features...\n",
      "Creating TF-IDF features (max_features=5000, ngram_range=(1, 2))\n",
      "TF-IDF features - Train: (8111, 5000), Val: (1432, 5000), Test: (2388, 5000)\n",
      "Top 10 features for each class:\n",
      "  Class 0:\n",
      "    stock: 0.0239\n",
      "    valu: 0.0200\n",
      "    miss: 0.0199\n",
      "    monet: 0.0190\n",
      "    monet valu: 0.0190\n",
      "    valu stamp: 0.0190\n",
      "    stamp: 0.0180\n",
      "    cut: 0.0174\n",
      "    low: 0.0168\n",
      "    market: 0.0143\n",
      "  Class 1:\n",
      "    valu: 0.0308\n",
      "    monet: 0.0304\n",
      "    valu stamp: 0.0304\n",
      "    monet valu: 0.0304\n",
      "    stamp: 0.0291\n",
      "    beat: 0.0276\n",
      "    stock: 0.0269\n",
      "    high: 0.0183\n",
      "    shar: 0.0180\n",
      "    market: 0.0171\n",
      "  Class 2:\n",
      "    stamp: 0.0202\n",
      "    stock: 0.0201\n",
      "    valu: 0.0184\n",
      "    monet: 0.0169\n",
      "    monet valu: 0.0167\n",
      "    valu stamp: 0.0167\n",
      "    result: 0.0152\n",
      "    report: 0.0150\n",
      "    marketscreen: 0.0133\n",
      "    new: 0.0118\n",
      "Saved TF-IDF features to ../feature_engineered_data\\whitespace_lancaster\n",
      "\n",
      "Processing Word2Vec features...\n",
      "Creating Word2Vec features (vector_size=100, window=5)\n",
      "Word2Vec vocabulary size: 4736\n"
     ]
    },
    {
     "name": "stderr",
     "output_type": "stream",
     "text": [
      "Creating train vectors: 100%|████████████████████████████████████████████████████| 8111/8111 [00:01<00:00, 4622.70it/s]\n",
      "Creating val vectors: 100%|██████████████████████████████████████████████████████| 1432/1432 [00:00<00:00, 4207.51it/s]\n",
      "Creating test vectors: 100%|█████████████████████████████████████████████████████| 2388/2388 [00:00<00:00, 3566.43it/s]\n"
     ]
    },
    {
     "name": "stdout",
     "output_type": "stream",
     "text": [
      "Word2Vec features - Train: (8111, 100), Val: (1432, 100), Test: (2388, 100)\n",
      "\n",
      "Some word similarities:\n",
      "  stock: [('wti', 0.9360405206680298), ('marketscreen', 0.9233434796333313), ('trad', 0.898370623588562), ('verseon', 0.8981475830078125), ('circul', 0.8956388235092163)]\n",
      "  market: [('stockmarket', 0.9756247401237488), ('trad', 0.9657008051872253), ('upd', 0.9653106331825256), ('busy', 0.9638601541519165), ('marketscreen', 0.96003657579422)]\n",
      "  up: [('red', 0.9989421367645264), ('success', 0.9988114237785339), ('secret', 0.9986574053764343), ('giant', 0.9986390471458435), ('av', 0.9986287355422974)]\n",
      "Saved Word2Vec features to ../feature_engineered_data\\whitespace_lancaster\n",
      "\n",
      "Processing Mini Sentence-BERT features...\n",
      "Creating Mini Sentence-BERT features using sentence-transformers/all-MiniLM-L6-v2\n"
     ]
    },
    {
     "name": "stderr",
     "output_type": "stream",
     "text": [
      "Generating embeddings: 100%|█████████████████████████████████████████████████████████| 254/254 [06:41<00:00,  1.58s/it]\n",
      "Generating embeddings: 100%|███████████████████████████████████████████████████████████| 45/45 [00:58<00:00,  1.30s/it]\n",
      "Generating embeddings: 100%|███████████████████████████████████████████████████████████| 75/75 [02:07<00:00,  1.70s/it]\n"
     ]
    },
    {
     "name": "stdout",
     "output_type": "stream",
     "text": [
      "Mini Sentence-BERT features - Train: (8111, 384), Val: (1432, 384), Test: (2388, 384)\n",
      "Saved Mini Sentence-BERT features to ../feature_engineered_data\\whitespace_lancaster\n",
      "\n",
      "Processing features for: word_lemma\n",
      "\n",
      "================================================================================\n",
      "Processing features for word_lemma\n",
      "================================================================================\n",
      "Loaded word_lemma data - Train: 8111, Val: 1432, Test: 2388\n",
      "Class distribution in training set:\n",
      "  Class 0: 1226 (15.1%)\n",
      "  Class 1: 1634 (20.1%)\n",
      "  Class 2: 5251 (64.7%)\n",
      "Using weight strategy to handle class imbalance\n",
      "Class weights: {0: 2.2052746057640022, 1: 1.6546307629538963, 2: 0.5148860534501365}\n",
      "\n",
      "Processing TF-IDF features...\n",
      "Creating TF-IDF features (max_features=5000, ngram_range=(1, 2))\n",
      "TF-IDF features - Train: (8111, 5000), Val: (1432, 5000), Test: (2388, 5000)\n",
      "Top 10 features for each class:\n",
      "  Class 0:\n",
      "    stock: 0.0247\n",
      "    value: 0.0195\n",
      "    monetary: 0.0194\n",
      "    monetary value: 0.0194\n",
      "    value stamp: 0.0194\n",
      "    miss: 0.0189\n",
      "    stamp: 0.0184\n",
      "    cut: 0.0165\n",
      "    market: 0.0145\n",
      "    oil: 0.0141\n",
      "  Class 1:\n",
      "    value: 0.0310\n",
      "    monetary: 0.0310\n",
      "    monetary value: 0.0309\n",
      "    value stamp: 0.0309\n",
      "    stamp: 0.0296\n",
      "    stock: 0.0274\n",
      "    beat: 0.0269\n",
      "    share: 0.0182\n",
      "    market: 0.0174\n",
      "    revenue: 0.0155\n",
      "  Class 2:\n",
      "    stamp: 0.0205\n",
      "    stock: 0.0205\n",
      "    value: 0.0182\n",
      "    monetary: 0.0172\n",
      "    monetary value: 0.0170\n",
      "    value stamp: 0.0170\n",
      "    result: 0.0156\n",
      "    report: 0.0152\n",
      "    marketscreener: 0.0136\n",
      "    report result: 0.0118\n",
      "Saved TF-IDF features to ../feature_engineered_data\\word_lemma\n",
      "\n",
      "Processing Word2Vec features...\n",
      "Creating Word2Vec features (vector_size=100, window=5)\n",
      "Word2Vec vocabulary size: 5835\n"
     ]
    },
    {
     "name": "stderr",
     "output_type": "stream",
     "text": [
      "Creating train vectors: 100%|████████████████████████████████████████████████████| 8111/8111 [00:01<00:00, 6866.70it/s]\n",
      "Creating val vectors: 100%|██████████████████████████████████████████████████████| 1432/1432 [00:00<00:00, 6474.09it/s]\n",
      "Creating test vectors: 100%|█████████████████████████████████████████████████████| 2388/2388 [00:00<00:00, 6701.82it/s]\n"
     ]
    },
    {
     "name": "stdout",
     "output_type": "stream",
     "text": [
      "Word2Vec features - Train: (8111, 100), Val: (1432, 100), Test: (2388, 100)\n",
      "\n",
      "Some word similarities:\n",
      "  bullish: [('ball', 0.9974129796028137), ('crazy', 0.992866575717926), ('never', 0.9915086627006531), ('piling', 0.9886150360107422), ('burn', 0.9883967041969299)]\n",
      "  bearish: [('start', 0.9976033568382263), ('treasury', 0.997463583946228), ('russia', 0.997341513633728), ('might', 0.9973128437995911), ('asia', 0.9972598552703857)]\n",
      "  stock: [('wti', 0.9606815576553345), ('taux', 0.9396766424179077), ('roundup', 0.9338479042053223), ('faang', 0.9258714914321899), ('marketscreener', 0.9222403168678284)]\n",
      "  market: [('trading', 0.9895026683807373), ('stockmarket', 0.9881719350814819), ('finance', 0.9851778745651245), ('investing', 0.9826933145523071), ('business', 0.9763026237487793)]\n",
      "Saved Word2Vec features to ../feature_engineered_data\\word_lemma\n",
      "\n",
      "Processing Mini Sentence-BERT features...\n",
      "Creating Mini Sentence-BERT features using sentence-transformers/all-MiniLM-L6-v2\n"
     ]
    },
    {
     "name": "stderr",
     "output_type": "stream",
     "text": [
      "Generating embeddings: 100%|█████████████████████████████████████████████████████████| 254/254 [05:42<00:00,  1.35s/it]\n",
      "Generating embeddings: 100%|███████████████████████████████████████████████████████████| 45/45 [00:40<00:00,  1.12it/s]\n",
      "Generating embeddings: 100%|███████████████████████████████████████████████████████████| 75/75 [01:51<00:00,  1.48s/it]\n"
     ]
    },
    {
     "name": "stdout",
     "output_type": "stream",
     "text": [
      "Mini Sentence-BERT features - Train: (8111, 384), Val: (1432, 384), Test: (2388, 384)\n",
      "Saved Mini Sentence-BERT features to ../feature_engineered_data\\word_lemma\n"
     ]
    }
   ],
   "source": [
    "\n",
    "\n",
    "# Step 1: Create Feature Engineering object\n",
    "fe = FeatureEngineering(\n",
    "    base_dir=\"../processed_data\",\n",
    "    output_dir=\"../feature_engineered_data\"\n",
    ")\n",
    "\n",
    "# Step 2: Process features for all preprocessing versions\n",
    "all_features = {}\n",
    "preprocessing_versions = ['regexp_snowball', 'tweet_base', 'tweet_porter', \n",
    "                          'whitespace_lancaster', 'word_lemma']\n",
    "\n",
    "for version in preprocessing_versions:\n",
    "    print(f\"\\nProcessing features for: {version}\")\n",
    "    all_features[version] = fe.process_features(\n",
    "        preprocessing_version=version,\n",
    "        imbalance_strategy=\"weight\"\n",
    "    )"
   ]
  },
  {
   "cell_type": "code",
   "execution_count": null,
   "id": "45bd85c7-a16a-4936-802d-cf943cd4f013",
   "metadata": {},
   "outputs": [],
   "source": []
  }
 ],
 "metadata": {
  "kernelspec": {
   "display_name": "Python (nlp)",
   "language": "python",
   "name": "nlp"
  },
  "language_info": {
   "codemirror_mode": {
    "name": "ipython",
    "version": 3
   },
   "file_extension": ".py",
   "mimetype": "text/x-python",
   "name": "python",
   "nbconvert_exporter": "python",
   "pygments_lexer": "ipython3",
   "version": "3.10.17"
  }
 },
 "nbformat": 4,
 "nbformat_minor": 5
}
