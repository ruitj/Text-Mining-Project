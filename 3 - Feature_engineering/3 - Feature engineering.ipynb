{
 "cells": [
  {
   "cell_type": "markdown",
   "id": "7f542664-f0cc-4db3-bd25-3fe0eff85e18",
   "metadata": {},
   "source": [
    "\n",
    "<div style=\"display: flex; align-items: center; justify-content: center; padding: 20px 0; text-align: center; height: 100vh; max-width: 1500px; margin: auto;\">\n",
    "    <img src=\"https://media.licdn.com/dms/image/v2/D4D3DAQFGx0XnuUvugA/image-scale_191_1128/image-scale_191_1128/0/1662458005755/nova_ims_information_management_school_cover?e=2147483647&v=beta&t=J3Q4LlZi36_4UAFhj2019QdtfXLn0kQwaX25jgaBhOQ\" \n",
    "         alt=\"Logo\" \n",
    "         style=\"width: 100%; max-width: 1500px; height: auto; max-height: 200px; object-fit: cover; object-position: center; border: 5px solid #A0C020; border-radius: 5px;\">\n",
    "</div>\n",
    "\n",
    "<div style=\"text-align: center; padding: 20px 0;\">\n",
    "    <h5>This analysis is conducted as part of the <b><i>Text Mining</i></b> course, a component of the Master's program in Data Science and Advanced Analytics at the <b><u>Nova Information Management School</u></b>.</h5>\n",
    "</div>\n",
    "<!-- This notebook template was created by Catarina Gonçalves Nunes, 20230083 -->\n",
    "<div style=\"text-align: center; color: #A0C020;\">\n",
    "    <h1><b>Predicting market behavior from tweets</b></h1>\n",
    "</div>"
   ]
  },
  {
   "cell_type": "markdown",
   "id": "d57da9c0-2c79-47d8-bc28-2ad2f9b1bd22",
   "metadata": {},
   "source": [
    "<h3 style=\"text-align: center;\"><u></b>Group 31</u></b></h3>\n",
    "\n",
    "|     Student Name     |     Student ID     | \n",
    "|         ---          |           ---          |\n",
    "|     David|         | \n",
    "|     Elcano           |              |\n",
    "|     Jorge Cordeiro      |       20240594       |\n",
    "|     Rui   |            |"
   ]
  },
  {
   "cell_type": "code",
   "execution_count": 1,
   "id": "6e98105e-33e0-47cc-8045-dd5a1c781ce0",
   "metadata": {},
   "outputs": [
    {
     "name": "stderr",
     "output_type": "stream",
     "text": [
      "D:\\Outras coisas\\Anaconda\\envs\\nlp\\lib\\site-packages\\tqdm\\auto.py:21: TqdmWarning: IProgress not found. Please update jupyter and ipywidgets. See https://ipywidgets.readthedocs.io/en/stable/user_install.html\n",
      "  from .autonotebook import tqdm as notebook_tqdm\n"
     ]
    },
    {
     "name": "stdout",
     "output_type": "stream",
     "text": [
      "Using device: cpu\n"
     ]
    }
   ],
   "source": [
    "# Import the class\n",
    "from feature_functions import FeatureEngineering"
   ]
  },
  {
   "cell_type": "code",
   "execution_count": 3,
   "id": "a48dafcf-3a61-4cfc-8ea0-2587aea3f2c9",
   "metadata": {},
   "outputs": [
    {
     "name": "stdout",
     "output_type": "stream",
     "text": [
      "Created output directory: feature_engineered_data\n",
      "Found preprocessing versions: ['regexp_snowball', 'tweet_base', 'tweet_porter', 'whitespace_lancaster', 'word_lemma']\n",
      "\n",
      "Processing features for: regexp_snowball\n",
      "\n",
      "================================================================================\n",
      "Processing features for regexp_snowball\n",
      "================================================================================\n",
      "Loaded regexp_snowball data - Train: 8111, Val: 1432, Test: 2388\n",
      "Class distribution in training set:\n",
      "  Class 0: 1226 (15.1%)\n",
      "  Class 1: 1634 (20.1%)\n",
      "  Class 2: 5251 (64.7%)\n",
      "Using weight strategy to handle class imbalance\n",
      "Class weights: {0: 2.2052746057640022, 1: 1.6546307629538963, 2: 0.5148860534501365}\n",
      "\n",
      "Processing TF-IDF features...\n",
      "Creating TF-IDF features (max_features=5000, ngram_range=(1, 2))\n",
      "TF-IDF features - Train: (8111, 5000), Val: (1432, 5000), Test: (2388, 5000)\n",
      "Top 10 features for each class:\n",
      "  Class 0:\n",
      "    stock: 0.0242\n",
      "    miss: 0.0203\n",
      "    valu: 0.0192\n",
      "    monetari: 0.0190\n",
      "    monetari valu: 0.0190\n",
      "    valu stamp: 0.0190\n",
      "    stamp: 0.0181\n",
      "    cut: 0.0173\n",
      "    market: 0.0144\n",
      "    oil: 0.0138\n",
      "  Class 1:\n",
      "    valu: 0.0309\n",
      "    monetari: 0.0306\n",
      "    monetari valu: 0.0306\n",
      "    valu stamp: 0.0306\n",
      "    stamp: 0.0293\n",
      "    beat: 0.0276\n",
      "    stock: 0.0269\n",
      "    share: 0.0182\n",
      "    market: 0.0171\n",
      "    revenu: 0.0153\n",
      "  Class 2:\n",
      "    stamp: 0.0204\n",
      "    stock: 0.0202\n",
      "    valu: 0.0183\n",
      "    monetari: 0.0171\n",
      "    valu stamp: 0.0168\n",
      "    monetari valu: 0.0168\n",
      "    result: 0.0156\n",
      "    report: 0.0154\n",
      "    marketscreen: 0.0134\n",
      "    report result: 0.0119\n",
      "\n",
      "Processing Word2Vec features...\n",
      "Creating Word2Vec features (vector_size=100, window=5)\n",
      "Word2Vec vocabulary size: 5221\n"
     ]
    },
    {
     "name": "stderr",
     "output_type": "stream",
     "text": [
      "Creating train vectors: 100%|████████████████████████████████████████████████████| 8111/8111 [00:01<00:00, 5296.05it/s]\n",
      "Creating val vectors: 100%|██████████████████████████████████████████████████████| 1432/1432 [00:00<00:00, 4679.89it/s]\n",
      "Creating test vectors: 100%|█████████████████████████████████████████████████████| 2388/2388 [00:00<00:00, 5039.48it/s]\n"
     ]
    },
    {
     "name": "stdout",
     "output_type": "stream",
     "text": [
      "Word2Vec features - Train: (8111, 100), Val: (1432, 100), Test: (2388, 100)\n",
      "\n",
      "Some word similarities:\n",
      "  bullish: [('ball', 0.996462345123291), ('burn', 0.9938257932662964), ('never', 0.9938195943832397), ('love', 0.988045334815979), ('crazi', 0.9822540283203125)]\n",
      "  bearish: [('leader', 0.997762143611908), ('action', 0.9976744651794434), ('team', 0.9976598024368286), ('candid', 0.9976476430892944), ('facebook', 0.9976298213005066)]\n",
      "  stock: [('wti', 0.9513144493103027), ('roundup', 0.9287844300270081), ('marketscreen', 0.9216118454933167), ('economi', 0.9099363088607788), ('londonstockexchang', 0.9087868332862854)]\n",
      "  market: [('stockmarket', 0.9815443158149719), ('trade', 0.975605309009552), ('financ', 0.9737459421157837), ('economi', 0.9693883061408997), ('updat', 0.9667630195617676)]\n",
      "  up: [('africa', 0.9986341595649719), ('merger', 0.9984903931617737), ('place', 0.99836665391922), ('south', 0.9983177185058594), ('race', 0.9983009099960327)]\n",
      "\n",
      "Processing Mini Sentence-BERT features...\n",
      "Creating Mini Sentence-BERT features using sentence-transformers/all-MiniLM-L6-v2\n"
     ]
    },
    {
     "name": "stderr",
     "output_type": "stream",
     "text": [
      "Generating embeddings: 100%|█████████████████████████████████████████████████████████| 254/254 [08:03<00:00,  1.90s/it]\n",
      "Generating embeddings: 100%|███████████████████████████████████████████████████████████| 45/45 [01:29<00:00,  2.00s/it]\n",
      "Generating embeddings: 100%|███████████████████████████████████████████████████████████| 75/75 [02:57<00:00,  2.36s/it]\n"
     ]
    },
    {
     "name": "stdout",
     "output_type": "stream",
     "text": [
      "Mini Sentence-BERT features - Train: (8111, 384), Val: (1432, 384), Test: (2388, 384)\n",
      "\n",
      "Processing features for: tweet_base\n",
      "\n",
      "================================================================================\n",
      "Processing features for tweet_base\n",
      "================================================================================\n",
      "Loaded tweet_base data - Train: 8111, Val: 1432, Test: 2388\n",
      "Class distribution in training set:\n",
      "  Class 0: 1226 (15.1%)\n",
      "  Class 1: 1634 (20.1%)\n",
      "  Class 2: 5251 (64.7%)\n",
      "Using weight strategy to handle class imbalance\n",
      "Class weights: {0: 2.2052746057640022, 1: 1.6546307629538963, 2: 0.5148860534501365}\n",
      "\n",
      "Processing TF-IDF features...\n",
      "Creating TF-IDF features (max_features=5000, ngram_range=(1, 2))\n",
      "TF-IDF features - Train: (8111, 5000), Val: (1432, 5000), Test: (2388, 5000)\n",
      "Top 10 features for each class:\n",
      "  Class 0:\n",
      "    value: 0.0194\n",
      "    monetary: 0.0193\n",
      "    value stamp: 0.0193\n",
      "    monetary value: 0.0193\n",
      "    stock: 0.0192\n",
      "    stamp: 0.0183\n",
      "    misses: 0.0158\n",
      "    oil: 0.0142\n",
      "    china: 0.0142\n",
      "    coronavirus: 0.0133\n",
      "  Class 1:\n",
      "    value: 0.0309\n",
      "    monetary: 0.0308\n",
      "    monetary value: 0.0308\n",
      "    value stamp: 0.0308\n",
      "    stamp: 0.0294\n",
      "    beats: 0.0232\n",
      "    stock: 0.0210\n",
      "    shares: 0.0155\n",
      "    revenue: 0.0151\n",
      "    price: 0.0137\n",
      "  Class 2:\n",
      "    stamp: 0.0205\n",
      "    value: 0.0182\n",
      "    monetary: 0.0172\n",
      "    stock: 0.0171\n",
      "    monetary value: 0.0170\n",
      "    value stamp: 0.0170\n",
      "    results: 0.0155\n",
      "    marketscreener: 0.0136\n",
      "    reports: 0.0133\n",
      "    reports results: 0.0117\n",
      "\n",
      "Processing Word2Vec features...\n",
      "Creating Word2Vec features (vector_size=100, window=5)\n",
      "Word2Vec vocabulary size: 6353\n"
     ]
    },
    {
     "name": "stderr",
     "output_type": "stream",
     "text": [
      "Creating train vectors: 100%|████████████████████████████████████████████████████| 8111/8111 [00:01<00:00, 6792.30it/s]\n",
      "Creating val vectors: 100%|██████████████████████████████████████████████████████| 1432/1432 [00:00<00:00, 6904.43it/s]\n",
      "Creating test vectors: 100%|█████████████████████████████████████████████████████| 2388/2388 [00:00<00:00, 6698.78it/s]\n"
     ]
    },
    {
     "name": "stdout",
     "output_type": "stream",
     "text": [
      "Word2Vec features - Train: (8111, 100), Val: (1432, 100), Test: (2388, 100)\n",
      "\n",
      "Some word similarities:\n",
      "  bullish: [('never', 0.996958315372467), ('ball', 0.9957711100578308), ('piling', 0.9891611337661743), ('crazy', 0.9887554049491882), ('love', 0.9871888756752014)]\n",
      "  bearish: [('russia', 0.9976731538772583), ('move', 0.997485876083374), ('say', 0.9974390864372253), ('fear', 0.9974162578582764), ('concern', 0.9973885416984558)]\n",
      "  stock: [('londonstockexchange', 0.9365841746330261), ('bankofireland', 0.9330120086669922), ('marketscreener', 0.9223089218139648), ('appendix', 0.9136084914207458), ('fortinet', 0.9042296409606934)]\n",
      "  market: [('update', 0.991844654083252), ('wti', 0.9837071895599365), ('happened', 0.9797287583351135), ('halt', 0.9739960432052612), ('marketscreener', 0.9723103642463684)]\n",
      "\n",
      "Processing Mini Sentence-BERT features...\n",
      "Creating Mini Sentence-BERT features using sentence-transformers/all-MiniLM-L6-v2\n"
     ]
    },
    {
     "name": "stderr",
     "output_type": "stream",
     "text": [
      "Generating embeddings: 100%|█████████████████████████████████████████████████████████| 254/254 [05:29<00:00,  1.30s/it]\n",
      "Generating embeddings: 100%|███████████████████████████████████████████████████████████| 45/45 [01:16<00:00,  1.71s/it]\n",
      "Generating embeddings: 100%|███████████████████████████████████████████████████████████| 75/75 [01:35<00:00,  1.27s/it]\n"
     ]
    },
    {
     "name": "stdout",
     "output_type": "stream",
     "text": [
      "Mini Sentence-BERT features - Train: (8111, 384), Val: (1432, 384), Test: (2388, 384)\n",
      "\n",
      "Processing features for: tweet_porter\n",
      "\n",
      "================================================================================\n",
      "Processing features for tweet_porter\n",
      "================================================================================\n",
      "Loaded tweet_porter data - Train: 8111, Val: 1432, Test: 2388\n",
      "Class distribution in training set:\n",
      "  Class 0: 1226 (15.1%)\n",
      "  Class 1: 1634 (20.1%)\n",
      "  Class 2: 5251 (64.7%)\n",
      "Using weight strategy to handle class imbalance\n",
      "Class weights: {0: 2.2052746057640022, 1: 1.6546307629538963, 2: 0.5148860534501365}\n",
      "\n",
      "Processing TF-IDF features...\n",
      "Creating TF-IDF features (max_features=5000, ngram_range=(1, 2))\n",
      "TF-IDF features - Train: (8111, 5000), Val: (1432, 5000), Test: (2388, 5000)\n",
      "Top 10 features for each class:\n",
      "  Class 0:\n",
      "    stock: 0.0241\n",
      "    miss: 0.0202\n",
      "    valu: 0.0192\n",
      "    monetari: 0.0190\n",
      "    valu stamp: 0.0190\n",
      "    monetari valu: 0.0190\n",
      "    stamp: 0.0180\n",
      "    cut: 0.0174\n",
      "    market: 0.0143\n",
      "    oil: 0.0140\n",
      "  Class 1:\n",
      "    valu: 0.0308\n",
      "    monetari: 0.0305\n",
      "    monetari valu: 0.0305\n",
      "    valu stamp: 0.0305\n",
      "    stamp: 0.0291\n",
      "    beat: 0.0272\n",
      "    stock: 0.0269\n",
      "    share: 0.0182\n",
      "    market: 0.0171\n",
      "    revenu: 0.0153\n",
      "  Class 2:\n",
      "    stamp: 0.0203\n",
      "    stock: 0.0202\n",
      "    valu: 0.0183\n",
      "    monetari: 0.0171\n",
      "    monetari valu: 0.0168\n",
      "    valu stamp: 0.0168\n",
      "    result: 0.0155\n",
      "    report: 0.0152\n",
      "    marketscreen: 0.0135\n",
      "    report result: 0.0117\n",
      "\n",
      "Processing Word2Vec features...\n",
      "Creating Word2Vec features (vector_size=100, window=5)\n",
      "Word2Vec vocabulary size: 5230\n"
     ]
    },
    {
     "name": "stderr",
     "output_type": "stream",
     "text": [
      "Creating train vectors: 100%|████████████████████████████████████████████████████| 8111/8111 [00:01<00:00, 8038.75it/s]\n",
      "Creating val vectors: 100%|██████████████████████████████████████████████████████| 1432/1432 [00:00<00:00, 6606.80it/s]\n",
      "Creating test vectors: 100%|█████████████████████████████████████████████████████| 2388/2388 [00:00<00:00, 5410.93it/s]\n"
     ]
    },
    {
     "name": "stdout",
     "output_type": "stream",
     "text": [
      "Word2Vec features - Train: (8111, 100), Val: (1432, 100), Test: (2388, 100)\n",
      "\n",
      "Some word similarities:\n",
      "  bullish: [('ball', 0.9949658513069153), ('burn', 0.9945408701896667), ('never', 0.9939372539520264), ('love', 0.9913061261177063), ('crazi', 0.9853930473327637)]\n",
      "  bearish: [('revers', 0.9978843331336975), ('battl', 0.9978842735290527), ('rs', 0.9978570342063904), ('person', 0.9975464344024658), ('option', 0.9974966645240784)]\n",
      "  stock: [('wti', 0.9655070900917053), ('taux', 0.9182219505310059), ('marketscreen', 0.9142667055130005), ('bankofireland', 0.9111524820327759), ('renascorresourc', 0.9105949401855469)]\n",
      "  market: [('financ', 0.9847189784049988), ('marketscreen', 0.9796724319458008), ('updat', 0.97902512550354), ('stockmarket', 0.9787850975990295), ('busi', 0.9699568152427673)]\n",
      "  up: [('got', 0.9987144470214844), ('south', 0.9986327886581421), ('fail', 0.9985648393630981), ('success', 0.9984865188598633), ('rs', 0.9984291195869446)]\n",
      "\n",
      "Processing Mini Sentence-BERT features...\n",
      "Creating Mini Sentence-BERT features using sentence-transformers/all-MiniLM-L6-v2\n"
     ]
    },
    {
     "name": "stderr",
     "output_type": "stream",
     "text": [
      "Generating embeddings: 100%|█████████████████████████████████████████████████████████| 254/254 [06:15<00:00,  1.48s/it]\n",
      "Generating embeddings: 100%|███████████████████████████████████████████████████████████| 45/45 [01:22<00:00,  1.84s/it]\n",
      "Generating embeddings: 100%|███████████████████████████████████████████████████████████| 75/75 [01:39<00:00,  1.33s/it]\n"
     ]
    },
    {
     "name": "stdout",
     "output_type": "stream",
     "text": [
      "Mini Sentence-BERT features - Train: (8111, 384), Val: (1432, 384), Test: (2388, 384)\n",
      "\n",
      "Processing features for: whitespace_lancaster\n",
      "\n",
      "================================================================================\n",
      "Processing features for whitespace_lancaster\n",
      "================================================================================\n",
      "Loaded whitespace_lancaster data - Train: 8111, Val: 1432, Test: 2388\n",
      "Class distribution in training set:\n",
      "  Class 0: 1226 (15.1%)\n",
      "  Class 1: 1634 (20.1%)\n",
      "  Class 2: 5251 (64.7%)\n",
      "Using weight strategy to handle class imbalance\n",
      "Class weights: {0: 2.2052746057640022, 1: 1.6546307629538963, 2: 0.5148860534501365}\n",
      "\n",
      "Processing TF-IDF features...\n",
      "Creating TF-IDF features (max_features=5000, ngram_range=(1, 2))\n",
      "TF-IDF features - Train: (8111, 5000), Val: (1432, 5000), Test: (2388, 5000)\n",
      "Top 10 features for each class:\n",
      "  Class 0:\n",
      "    stock: 0.0239\n",
      "    valu: 0.0200\n",
      "    miss: 0.0199\n",
      "    monet: 0.0190\n",
      "    monet valu: 0.0190\n",
      "    valu stamp: 0.0190\n",
      "    stamp: 0.0180\n",
      "    cut: 0.0174\n",
      "    low: 0.0168\n",
      "    market: 0.0143\n",
      "  Class 1:\n",
      "    valu: 0.0308\n",
      "    monet: 0.0304\n",
      "    valu stamp: 0.0304\n",
      "    monet valu: 0.0304\n",
      "    stamp: 0.0291\n",
      "    beat: 0.0276\n",
      "    stock: 0.0269\n",
      "    high: 0.0183\n",
      "    shar: 0.0180\n",
      "    market: 0.0171\n",
      "  Class 2:\n",
      "    stamp: 0.0202\n",
      "    stock: 0.0201\n",
      "    valu: 0.0184\n",
      "    monet: 0.0169\n",
      "    monet valu: 0.0167\n",
      "    valu stamp: 0.0167\n",
      "    result: 0.0152\n",
      "    report: 0.0150\n",
      "    marketscreen: 0.0133\n",
      "    new: 0.0118\n",
      "\n",
      "Processing Word2Vec features...\n",
      "Creating Word2Vec features (vector_size=100, window=5)\n",
      "Word2Vec vocabulary size: 4736\n"
     ]
    },
    {
     "name": "stderr",
     "output_type": "stream",
     "text": [
      "Creating train vectors: 100%|████████████████████████████████████████████████████| 8111/8111 [00:01<00:00, 6669.55it/s]\n",
      "Creating val vectors: 100%|██████████████████████████████████████████████████████| 1432/1432 [00:00<00:00, 6316.63it/s]\n",
      "Creating test vectors: 100%|█████████████████████████████████████████████████████| 2388/2388 [00:00<00:00, 6330.66it/s]\n"
     ]
    },
    {
     "name": "stdout",
     "output_type": "stream",
     "text": [
      "Word2Vec features - Train: (8111, 100), Val: (1432, 100), Test: (2388, 100)\n",
      "\n",
      "Some word similarities:\n",
      "  stock: [('wti', 0.9396510124206543), ('marketscreen', 0.9157053828239441), ('londonstockexchang', 0.911744236946106), ('taux', 0.9083591103553772), ('bankofireland', 0.904536247253418)]\n",
      "  market: [('marketscreen', 0.9732828140258789), ('stockmarket', 0.9699404239654541), ('econom', 0.9676938056945801), ('trad', 0.9663369655609131), ('busy', 0.9618560075759888)]\n",
      "  up: [('peopl', 0.9984872341156006), ('soc', 0.998456597328186), ('park', 0.9983739256858826), ('pick', 0.9983668327331543), ('quest', 0.9982593059539795)]\n",
      "\n",
      "Processing Mini Sentence-BERT features...\n",
      "Creating Mini Sentence-BERT features using sentence-transformers/all-MiniLM-L6-v2\n"
     ]
    },
    {
     "name": "stderr",
     "output_type": "stream",
     "text": [
      "Generating embeddings: 100%|█████████████████████████████████████████████████████████| 254/254 [07:02<00:00,  1.66s/it]\n",
      "Generating embeddings: 100%|███████████████████████████████████████████████████████████| 45/45 [01:07<00:00,  1.49s/it]\n",
      "Generating embeddings: 100%|███████████████████████████████████████████████████████████| 75/75 [01:50<00:00,  1.47s/it]\n"
     ]
    },
    {
     "name": "stdout",
     "output_type": "stream",
     "text": [
      "Mini Sentence-BERT features - Train: (8111, 384), Val: (1432, 384), Test: (2388, 384)\n",
      "\n",
      "Processing features for: word_lemma\n",
      "\n",
      "================================================================================\n",
      "Processing features for word_lemma\n",
      "================================================================================\n",
      "Loaded word_lemma data - Train: 8111, Val: 1432, Test: 2388\n",
      "Class distribution in training set:\n",
      "  Class 0: 1226 (15.1%)\n",
      "  Class 1: 1634 (20.1%)\n",
      "  Class 2: 5251 (64.7%)\n",
      "Using weight strategy to handle class imbalance\n",
      "Class weights: {0: 2.2052746057640022, 1: 1.6546307629538963, 2: 0.5148860534501365}\n",
      "\n",
      "Processing TF-IDF features...\n",
      "Creating TF-IDF features (max_features=5000, ngram_range=(1, 2))\n",
      "TF-IDF features - Train: (8111, 5000), Val: (1432, 5000), Test: (2388, 5000)\n",
      "Top 10 features for each class:\n",
      "  Class 0:\n",
      "    stock: 0.0247\n",
      "    value: 0.0195\n",
      "    monetary: 0.0194\n",
      "    monetary value: 0.0194\n",
      "    value stamp: 0.0194\n",
      "    miss: 0.0189\n",
      "    stamp: 0.0184\n",
      "    cut: 0.0165\n",
      "    market: 0.0145\n",
      "    oil: 0.0141\n",
      "  Class 1:\n",
      "    value: 0.0310\n",
      "    monetary: 0.0310\n",
      "    monetary value: 0.0309\n",
      "    value stamp: 0.0309\n",
      "    stamp: 0.0296\n",
      "    stock: 0.0274\n",
      "    beat: 0.0269\n",
      "    share: 0.0182\n",
      "    market: 0.0174\n",
      "    revenue: 0.0155\n",
      "  Class 2:\n",
      "    stamp: 0.0205\n",
      "    stock: 0.0205\n",
      "    value: 0.0182\n",
      "    monetary: 0.0172\n",
      "    monetary value: 0.0170\n",
      "    value stamp: 0.0170\n",
      "    result: 0.0156\n",
      "    report: 0.0152\n",
      "    marketscreener: 0.0136\n",
      "    report result: 0.0118\n",
      "\n",
      "Processing Word2Vec features...\n",
      "Creating Word2Vec features (vector_size=100, window=5)\n",
      "Word2Vec vocabulary size: 5835\n"
     ]
    },
    {
     "name": "stderr",
     "output_type": "stream",
     "text": [
      "Creating train vectors: 100%|████████████████████████████████████████████████████| 8111/8111 [00:01<00:00, 7299.25it/s]\n",
      "Creating val vectors: 100%|██████████████████████████████████████████████████████| 1432/1432 [00:00<00:00, 7155.90it/s]\n",
      "Creating test vectors: 100%|█████████████████████████████████████████████████████| 2388/2388 [00:00<00:00, 8679.67it/s]\n"
     ]
    },
    {
     "name": "stdout",
     "output_type": "stream",
     "text": [
      "Word2Vec features - Train: (8111, 100), Val: (1432, 100), Test: (2388, 100)\n",
      "\n",
      "Some word similarities:\n",
      "  bullish: [('ball', 0.9973925352096558), ('never', 0.9937934875488281), ('burn', 0.9928433895111084), ('crazy', 0.9925583004951477), ('warming', 0.9875413775444031)]\n",
      "  bearish: [('russia', 0.9977553486824036), ('start', 0.9977099299430847), ('facebook', 0.9975995421409607), ('watch', 0.9972172975540161), ('farmer', 0.9972122311592102)]\n",
      "  stock: [('wti', 0.9612060189247131), ('taux', 0.9424476623535156), ('roundup', 0.9360754489898682), ('jeol', 0.9323985576629639), ('renascorresources', 0.9295644164085388)]\n",
      "  market: [('trading', 0.9839779734611511), ('stockmarket', 0.978376567363739), ('financials', 0.9768849015235901), ('samp', 0.9748740196228027), ('business', 0.9738861322402954)]\n",
      "\n",
      "Processing Mini Sentence-BERT features...\n",
      "Creating Mini Sentence-BERT features using sentence-transformers/all-MiniLM-L6-v2\n"
     ]
    },
    {
     "name": "stderr",
     "output_type": "stream",
     "text": [
      "Generating embeddings: 100%|█████████████████████████████████████████████████████████| 254/254 [05:06<00:00,  1.21s/it]\n",
      "Generating embeddings: 100%|███████████████████████████████████████████████████████████| 45/45 [01:14<00:00,  1.65s/it]\n",
      "Generating embeddings: 100%|███████████████████████████████████████████████████████████| 75/75 [01:32<00:00,  1.23s/it]"
     ]
    },
    {
     "name": "stdout",
     "output_type": "stream",
     "text": [
      "Mini Sentence-BERT features - Train: (8111, 384), Val: (1432, 384), Test: (2388, 384)\n"
     ]
    },
    {
     "name": "stderr",
     "output_type": "stream",
     "text": [
      "\n"
     ]
    }
   ],
   "source": [
    "\n",
    "\n",
    "# Step 1: Create Feature Engineering object\n",
    "fe = FeatureEngineering(\n",
    "    base_dir=\"../processed_data\",\n",
    "    output_dir=\"feature_engineered_data\"\n",
    ")\n",
    "\n",
    "# Step 2: Process features for all preprocessing versions\n",
    "all_features = {}\n",
    "preprocessing_versions = ['regexp_snowball', 'tweet_base', 'tweet_porter', \n",
    "                          'whitespace_lancaster', 'word_lemma']\n",
    "\n",
    "for version in preprocessing_versions:\n",
    "    print(f\"\\nProcessing features for: {version}\")\n",
    "    all_features[version] = fe.process_features(\n",
    "        preprocessing_version=version,\n",
    "        imbalance_strategy=\"weight\"\n",
    "    )"
   ]
  },
  {
   "cell_type": "code",
   "execution_count": null,
   "id": "45bd85c7-a16a-4936-802d-cf943cd4f013",
   "metadata": {},
   "outputs": [],
   "source": []
  }
 ],
 "metadata": {
  "kernelspec": {
   "display_name": "Python (nlp)",
   "language": "python",
   "name": "nlp"
  },
  "language_info": {
   "codemirror_mode": {
    "name": "ipython",
    "version": 3
   },
   "file_extension": ".py",
   "mimetype": "text/x-python",
   "name": "python",
   "nbconvert_exporter": "python",
   "pygments_lexer": "ipython3",
   "version": "3.10.17"
  }
 },
 "nbformat": 4,
 "nbformat_minor": 5
}
